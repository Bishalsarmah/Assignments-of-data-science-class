{
 "cells": [
  {
   "cell_type": "markdown",
   "id": "41415675",
   "metadata": {},
   "source": [
    "# Assignment - 30th jan\n"
   ]
  },
  {
   "cell_type": "markdown",
   "id": "1f29a06a",
   "metadata": {},
   "source": [
    "### Question no 1"
   ]
  },
  {
   "cell_type": "code",
   "execution_count": 8,
   "id": "bda721e5",
   "metadata": {},
   "outputs": [
    {
     "name": "stdout",
     "output_type": "stream",
     "text": [
      "Enter your percentage : 85\n",
      "B Grade\n"
     ]
    }
   ],
   "source": [
    "percentage = int(input(\"Enter your percentage : \"))\n",
    "if percentage > 90:\n",
    "    print(\"A grade\")\n",
    "elif percentage <=90 and percentage > 80 :\n",
    "    print(\"B Grade\")\n",
    "elif percentage <=80 and percentage < 60 :\n",
    "    print(\"C Grade\")\n",
    "elif percentage < 60 :\n",
    "    print(\"D Grade\")\n",
    "else :\n",
    "    print(\"Invalid percentage\")"
   ]
  },
  {
   "cell_type": "markdown",
   "id": "184a05fd",
   "metadata": {},
   "source": [
    "### Question no 2"
   ]
  },
  {
   "cell_type": "code",
   "execution_count": 7,
   "id": "30cd9e57",
   "metadata": {},
   "outputs": [
    {
     "name": "stdout",
     "output_type": "stream",
     "text": [
      "Enter the cost price of the bike :128000\n",
      "The Road tax will be : 19200.0\n"
     ]
    }
   ],
   "source": [
    "cost_price = int(input(\"Enter the cost price of the bike : \"))\n",
    "if cost_price > 100000 :\n",
    "    print(f\"The Road tax will be : {cost_price*0.15}\")\n",
    "elif cost_price <=100000 and cost_price >50000 :\n",
    "    print(f\"The Road tax will be : {cost_price*0.10}\")\n",
    "elif cost_price < 50000 :\n",
    "    print(f\"The Road tax will be : {cost_price*0.05}\")\n",
    "else:\n",
    "    print(\"invalid cost price\")"
   ]
  },
  {
   "cell_type": "markdown",
   "id": "51174cf7",
   "metadata": {},
   "source": [
    "### Question 3"
   ]
  },
  {
   "cell_type": "code",
   "execution_count": 26,
   "id": "d3cdbd8f",
   "metadata": {},
   "outputs": [
    {
     "name": "stdout",
     "output_type": "stream",
     "text": [
      "Enter the name of the city between Delhi, Agra and Jaipur : delhi\n",
      "Your city name is Delhi\n",
      "monument of your city is Red Fort\n"
     ]
    }
   ],
   "source": [
    "city = str(input(\"Enter the name of the city between Delhi, Agra and Jaipur : \"))\n",
    "\n",
    "if city == \"Delhi\" or \"delhi\" :\n",
    "    print(\"Your city name is Delhi\")\n",
    "    print(\"monument of your city is Red Fort\")\n",
    "elif city == \"Agra\" or \"agra\" :\n",
    "    print(\"Your city name is Agra\")\n",
    "    print(\"monumnet of the city is Taj Mahal\")\n",
    "elif city == \"Jaipur\" or \"jaipur\" :\n",
    "    print(\"Your city name is Jaipur\")\n",
    "    print(\"monument of the city is Jal Mahal\")\n",
    "else :\n",
    "    print(\"invalid city\")"
   ]
  },
  {
   "cell_type": "markdown",
   "id": "a8f99ae2",
   "metadata": {},
   "source": [
    "### Question no 4"
   ]
  },
  {
   "cell_type": "markdown",
   "id": "5187e7b2",
   "metadata": {},
   "source": [
    "### not understood the question properly\n",
    "    "
   ]
  },
  {
   "cell_type": "markdown",
   "id": "0d63efa2",
   "metadata": {},
   "source": [
    "### Question no 5"
   ]
  },
  {
   "cell_type": "markdown",
   "id": "f9fcc483",
   "metadata": {},
   "source": [
    "A while loop in Python is used when you want to repeatedly execute a block of code\n",
    "as long as a certain condition is true.\n",
    "The basic syntax for a while loop is:\n",
    "    while condition:\n",
    "        #code to be executed\n",
    "The code inside the loop will be executed as long as the condition is True. When the condition becomes False, the loop will stop and the program will continue to run the code after the loop.\n",
    "\n",
    "Here's an example that demonstrates the use of a while loop:"
   ]
  },
  {
   "cell_type": "code",
   "execution_count": 5,
   "id": "d7b50d1f",
   "metadata": {},
   "outputs": [
    {
     "name": "stdout",
     "output_type": "stream",
     "text": [
      "Counter: 1\n",
      "Counter: 2\n",
      "Counter: 3\n",
      "Counter: 4\n",
      "Counter: 5\n"
     ]
    }
   ],
   "source": [
    "counter = 1\n",
    "\n",
    "while counter <= 5:\n",
    "    print(\"Counter:\", counter)\n",
    "    counter += 1\n"
   ]
  },
  {
   "cell_type": "markdown",
   "id": "790be817",
   "metadata": {},
   "source": [
    "### Question no 6"
   ]
  },
  {
   "cell_type": "code",
   "execution_count": 6,
   "id": "58d21f4c",
   "metadata": {},
   "outputs": [
    {
     "name": "stdout",
     "output_type": "stream",
     "text": [
      "Enter number of rows: 5\n",
      "1 \n",
      "1 2 \n",
      "1 2 3 \n",
      "1 2 3 4 \n",
      "1 2 3 4 5 \n",
      "Enter number of rows: 8\n",
      "* \n",
      "* * \n",
      "* * * \n",
      "* * * * \n",
      "* * * * * \n",
      "* * * * * * \n",
      "* * * * * * * \n",
      "* * * * * * * * \n",
      "Enter number of rows: 6\n",
      "     * \n",
      "    * * \n",
      "   * * * \n",
      "  * * * * \n",
      " * * * * * \n",
      "* * * * * * \n"
     ]
    }
   ],
   "source": [
    "# Pattern 1: Triangular Number Pattern\n",
    "\n",
    "n = int(input(\"Enter number of rows: \"))\n",
    "\n",
    "i = 1\n",
    "while i <= n:\n",
    "    j = 1\n",
    "    while j <= i:\n",
    "        print(j, end=' ')\n",
    "        j += 1\n",
    "    print()\n",
    "    i += 1\n",
    "\n",
    "# Pattern 2: Right-angled Triangle Pattern\n",
    "\n",
    "n = int(input(\"Enter number of rows: \"))\n",
    "\n",
    "i = 1\n",
    "while i <= n:\n",
    "    j = 1\n",
    "    while j <= i:\n",
    "        print('*', end=' ')\n",
    "        j += 1\n",
    "    print()\n",
    "    i += 1\n",
    "\n",
    "# Pattern 3: Pyramid Pattern\n",
    "\n",
    "n = int(input(\"Enter number of rows: \"))\n",
    "\n",
    "for i in range(1, n + 1):\n",
    "    for j in range(n - i):\n",
    "        print(end=' ')\n",
    "    for j in range(i):\n",
    "        print('*', end=' ')\n",
    "    print()\n"
   ]
  },
  {
   "cell_type": "markdown",
   "id": "fbbf4ab0",
   "metadata": {},
   "source": [
    "### Question no 7"
   ]
  },
  {
   "cell_type": "code",
   "execution_count": 13,
   "id": "8d1fb07c",
   "metadata": {},
   "outputs": [
    {
     "name": "stdout",
     "output_type": "stream",
     "text": [
      "10\n",
      "9\n",
      "8\n",
      "7\n",
      "6\n",
      "5\n",
      "4\n",
      "3\n",
      "2\n",
      "1\n"
     ]
    }
   ],
   "source": [
    "num = 10\n",
    "while num >=1:\n",
    "    print(num)\n",
    "    num = num - 1"
   ]
  },
  {
   "cell_type": "markdown",
   "id": "c3b12355",
   "metadata": {},
   "source": [
    "### Question no 8 ( same as question no 7)"
   ]
  },
  {
   "cell_type": "code",
   "execution_count": 14,
   "id": "ae9f2373",
   "metadata": {},
   "outputs": [
    {
     "name": "stdout",
     "output_type": "stream",
     "text": [
      "10\n",
      "9\n",
      "8\n",
      "7\n",
      "6\n",
      "5\n",
      "4\n",
      "3\n",
      "2\n",
      "1\n"
     ]
    }
   ],
   "source": [
    "num = 10\n",
    "while num >=1:\n",
    "    print(num)\n",
    "    num = num - 1"
   ]
  },
  {
   "cell_type": "markdown",
   "id": "692c6d29",
   "metadata": {},
   "source": [
    "### Thank you"
   ]
  },
  {
   "cell_type": "code",
   "execution_count": null,
   "id": "b4ae4751",
   "metadata": {},
   "outputs": [],
   "source": []
  },
  {
   "cell_type": "code",
   "execution_count": null,
   "id": "7763d7ce",
   "metadata": {},
   "outputs": [],
   "source": []
  },
  {
   "cell_type": "code",
   "execution_count": null,
   "id": "5a9727f8",
   "metadata": {},
   "outputs": [],
   "source": []
  }
 ],
 "metadata": {
  "kernelspec": {
   "display_name": "Python 3 (ipykernel)",
   "language": "python",
   "name": "python3"
  },
  "language_info": {
   "codemirror_mode": {
    "name": "ipython",
    "version": 3
   },
   "file_extension": ".py",
   "mimetype": "text/x-python",
   "name": "python",
   "nbconvert_exporter": "python",
   "pygments_lexer": "ipython3",
   "version": "3.9.13"
  }
 },
 "nbformat": 4,
 "nbformat_minor": 5
}
